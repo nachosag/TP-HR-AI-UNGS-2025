{
 "cells": [
  {
   "cell_type": "markdown",
   "metadata": {},
   "source": [
    "# 🧠 Clasificación de candidatos con *Machine Learning*\n",
    "\n",
    "## Introducción 📌\n",
    "Se sigue un flujo de trabajo clásico de Machine Learning: carga y limpieza del dataset, preprocesamiento de variables, entrenamiento de modelos, evaluación y guardado."
   ]
  },
  {
   "cell_type": "markdown",
   "metadata": {},
   "source": [
    "🐼 1. Carga de librerías\n",
    "\n",
    "- Se importa la librería **Pandas**, la cual será utilizada para cargar, limpiar y manipular el dataset de candidatos."
   ]
  },
  {
   "cell_type": "code",
   "execution_count": 54,
   "metadata": {},
   "outputs": [],
   "source": [
    "import pandas as pd"
   ]
  },
  {
   "cell_type": "markdown",
   "metadata": {},
   "source": [
    "📄 2. Cargar el dataset y eliminar duplicados\n",
    "- Se carga el archivo `candidatos.csv` como un DataFrame.\n",
    "- Se eliminan las filas duplicadas para evitar sesgo en el modelo."
   ]
  },
  {
   "cell_type": "code",
   "execution_count": 55,
   "metadata": {},
   "outputs": [],
   "source": [
    "data = pd.read_csv(\"candidatos.csv\")\n",
    "data.drop_duplicates(inplace=True)"
   ]
  },
  {
   "cell_type": "markdown",
   "metadata": {},
   "source": [
    "⚙️ 3. Importar herramientas de preprocesamiento\n",
    "- Se importan herramientas para escalar variables numéricas y codificar variables categóricas."
   ]
  },
  {
   "cell_type": "code",
   "execution_count": 56,
   "metadata": {},
   "outputs": [],
   "source": [
    "from sklearn.preprocessing import MinMaxScaler, OrdinalEncoder, OneHotEncoder"
   ]
  },
  {
   "cell_type": "markdown",
   "metadata": {},
   "source": [
    "🏷️ 4. Definición de categorías para encoding ordinal\n",
    "- Se define el orden lógico para las variables categóricas **Educación** y **Aptitud** para que sean codificadas de forma ordinal."
   ]
  },
  {
   "cell_type": "code",
   "execution_count": 57,
   "metadata": {},
   "outputs": [],
   "source": [
    "educacion = [\"Ninguna\",\"Tecnicatura\",\"Licenciatura\",\"Ingeniería\"]\n",
    "aptitud = [\"No apto\", \"Apto\"]"
   ]
  },
  {
   "cell_type": "markdown",
   "metadata": {},
   "source": [
    "🔄 5. Preprocesamiento del dataset\n",
    "- `MinMaxScaler`: Escala la **Experiencia** entre 0 y 1.\n",
    "- `OrdinalEncoder`: Codifica **Educación** y **Aptitud** según el órden definido.\n",
    "- `OneHotEncoder`: Codifica la variable **Área** en múltiples columnas binarias."
   ]
  },
  {
   "cell_type": "code",
   "execution_count": 58,
   "metadata": {},
   "outputs": [],
   "source": [
    "mms = MinMaxScaler()\n",
    "edu_encoder = OrdinalEncoder(categories=[educacion])\n",
    "apt_encoder = OrdinalEncoder(categories=[aptitud])\n",
    "ohe = OneHotEncoder(sparse_output=False).set_output(transform=\"pandas\")"
   ]
  },
  {
   "cell_type": "markdown",
   "metadata": {},
   "source": [
    "- Se transforman las columnas mencionadas aplicando los métodos de escalado y codificación."
   ]
  },
  {
   "cell_type": "code",
   "execution_count": 59,
   "metadata": {},
   "outputs": [],
   "source": [
    "data[[\"Experiencia\"]] = mms.fit_transform(data[[\"Experiencia\"]])\n",
    "data[[\"Aptitud\"]] = apt_encoder.fit_transform(data[[\"Aptitud\"]])\n",
    "data[[\"Educación\"]] = edu_encoder.fit_transform(data[[\"Educación\"]])"
   ]
  },
  {
   "cell_type": "markdown",
   "metadata": {},
   "source": [
    "- Se codifica la columna **Área** con One-Hot Encoding, se concatenan las nuevas columnas y se elimina la original."
   ]
  },
  {
   "cell_type": "code",
   "execution_count": 60,
   "metadata": {},
   "outputs": [],
   "source": [
    "area_encoded = ohe.fit_transform(data[[\"Área\"]])\n",
    "data = pd.concat([data, area_encoded], axis=1).drop(columns=[\"Área\"])"
   ]
  },
  {
   "cell_type": "markdown",
   "metadata": {},
   "source": [
    "- Se renombran las columnas generadas por ``OneHotEncoder`` para hacerlas más legibles."
   ]
  },
  {
   "cell_type": "code",
   "execution_count": 61,
   "metadata": {},
   "outputs": [],
   "source": [
    "data.rename(columns={\n",
    "    \"Área_Desarrollo Web\": \"Desarrollo Web\",\n",
    "    \"Área_Desarrollo Móvil\": \"Desarrollo Móvil\",\n",
    "    \"Área_Desarrollo de Juegos\": \"Desarrollo de Juegos\",\n",
    "    },\n",
    "    inplace=True\n",
    ")"
   ]
  },
  {
   "cell_type": "markdown",
   "metadata": {},
   "source": [
    "🎯 6. División de variables predictoras y objetivo\n",
    "- `x`: Variables independientes o predictores\n",
    "- `y`: Variable dependiente u objetivo (**Aptitud**)"
   ]
  },
  {
   "cell_type": "code",
   "execution_count": 62,
   "metadata": {},
   "outputs": [],
   "source": [
    "x = data.drop(columns=[\"Aptitud\"])\n",
    "y = data[\"Aptitud\"]"
   ]
  },
  {
   "cell_type": "markdown",
   "metadata": {},
   "source": [
    "✂️ 7. División de datos en entrenamiento y prueba\n",
    "Se dividen los datos en:\n",
    "- **Entrenamiento** (70%)\n",
    "- **Prueba/validación** (30%) <br/>\n",
    "Usando una semilla (`random_state=42` para reproducibilidad.)"
   ]
  },
  {
   "cell_type": "code",
   "execution_count": 63,
   "metadata": {},
   "outputs": [],
   "source": [
    "from sklearn.model_selection import train_test_split\n",
    "x_train, x_test, y_train, y_test = train_test_split(x, y, test_size=0.3, random_state=42)"
   ]
  },
  {
   "cell_type": "markdown",
   "metadata": {},
   "source": [
    "🧪 8. Definición de modelos de ML\n",
    "Se importan dos algorítmos:\n",
    "- Regresión Logística\n",
    "- Árbol de Decisión"
   ]
  },
  {
   "cell_type": "code",
   "execution_count": 64,
   "metadata": {},
   "outputs": [],
   "source": [
    "from sklearn.linear_model import LogisticRegression\n",
    "from sklearn.tree import DecisionTreeClassifier"
   ]
  },
  {
   "cell_type": "markdown",
   "metadata": {},
   "source": [
    "Se crean los modelos y un diccionario para almacenar sus métricas de desempeño."
   ]
  },
  {
   "cell_type": "code",
   "execution_count": 65,
   "metadata": {},
   "outputs": [],
   "source": [
    "models = {\n",
    "    \"LogisticRegression\": LogisticRegression(),\n",
    "    \"DecisionTreeClassifier\": DecisionTreeClassifier(),\n",
    "}\n",
    "\n",
    "accuracy_scores = {}"
   ]
  },
  {
   "cell_type": "markdown",
   "metadata": {},
   "source": [
    "📊 9. Evaluación, impresión y guardado de modelos\n",
    "Se importa la métrica de **exactitud** (`acuracy_score`) y la función para guardar los modelos entrenados (`dump`)"
   ]
  },
  {
   "cell_type": "code",
   "execution_count": 66,
   "metadata": {},
   "outputs": [],
   "source": [
    "from sklearn.metrics import accuracy_score\n",
    "from joblib import dump"
   ]
  },
  {
   "cell_type": "markdown",
   "metadata": {},
   "source": [
    "Para cada modelo:\n",
    "1. Se entrena (`fit`).\n",
    "2. Se predice sobre los datos de prueba.\n",
    "3. Se calcula la **exactitud** y se guarda.\n",
    "4. Se imprime el desempeño del modelo tanto en entrenamiento como en validación, además de comparar los valores reales con los predichos.\n",
    "5. Cada modelo se guarda como archivo `.joblib` en la carpeta `../models/`."
   ]
  },
  {
   "cell_type": "code",
   "execution_count": 67,
   "metadata": {},
   "outputs": [
    {
     "name": "stdout",
     "output_type": "stream",
     "text": [
      "Accuracy of LogisticRegression on test data: 0.9584905660377359\n",
      "Exactitud promedio entrenamiento: 0.9627932057158264\n",
      "Exactitud promedio validación: 0.9584905660377359\n",
      "Datos reales:\n",
      " 23847    0.0\n",
      "12063    0.0\n",
      "842      1.0\n",
      "330      0.0\n",
      "9422     1.0\n",
      "        ... \n",
      "25233    1.0\n",
      "13333    1.0\n",
      "24840    0.0\n",
      "25226    1.0\n",
      "3118     0.0\n",
      "Name: Aptitud, Length: 1590, dtype: float64\n",
      "Datos predichos:\n",
      " [0. 0. 1. ... 0. 1. 0.]\n",
      "Accuracy of DecisionTreeClassifier on test data: 1.0\n",
      "Exactitud promedio entrenamiento: 1.0\n",
      "Exactitud promedio validación: 1.0\n",
      "Datos reales:\n",
      " 23847    0.0\n",
      "12063    0.0\n",
      "842      1.0\n",
      "330      0.0\n",
      "9422     1.0\n",
      "        ... \n",
      "25233    1.0\n",
      "13333    1.0\n",
      "24840    0.0\n",
      "25226    1.0\n",
      "3118     0.0\n",
      "Name: Aptitud, Length: 1590, dtype: float64\n",
      "Datos predichos:\n",
      " [0. 0. 1. ... 0. 1. 0.]\n"
     ]
    }
   ],
   "source": [
    "for model_name, model in models.items():\n",
    "    model.fit(x_train, y_train)\n",
    "    y_pred = model.predict(x_test)\n",
    "    accuracy = accuracy_score(y_test, y_pred)\n",
    "    accuracy_scores[model_name] = accuracy\n",
    "    \n",
    "    print(f'Accuracy of {model_name} on test data: {accuracy}')\n",
    "    print(f\"Exactitud promedio entrenamiento: {model.score(x_train,y_train)}\")\n",
    "    print(f\"Exactitud promedio validación: {model.score(x_test, y_test)}\")\n",
    "    print(\"Datos reales:\\n\", y_test)\n",
    "    print(\"Datos predichos:\\n\", y_pred)\n",
    "    \n",
    "    with open(f\"../models/{model_name}.joblib\", \"wb\") as f:\n",
    "        dump(model, f)"
   ]
  },
  {
   "cell_type": "markdown",
   "metadata": {},
   "source": [
    "Se imprime por consola el mejor modelo."
   ]
  },
  {
   "cell_type": "code",
   "execution_count": 68,
   "metadata": {},
   "outputs": [
    {
     "name": "stdout",
     "output_type": "stream",
     "text": [
      "\n",
      "🔍 El mejor modelo fue: DecisionTreeClassifier\n",
      "✅ Exactitud: 1.0\n"
     ]
    }
   ],
   "source": [
    "mejor_modelo = max(accuracy_scores, key=accuracy_scores.get)\n",
    "print(\"\\n🔍 El mejor modelo fue:\", mejor_modelo)\n",
    "print(\"✅ Exactitud:\", accuracy_scores[mejor_modelo])"
   ]
  },
  {
   "cell_type": "markdown",
   "metadata": {},
   "source": [
    "#### Tabla comparativa de los modelos"
   ]
  },
  {
   "cell_type": "code",
   "execution_count": 69,
   "metadata": {},
   "outputs": [
    {
     "name": "stdout",
     "output_type": "stream",
     "text": [
      "\n",
      "📊 Comparativa de modelos:\n"
     ]
    },
    {
     "data": {
      "text/html": [
       "<div>\n",
       "<style scoped>\n",
       "    .dataframe tbody tr th:only-of-type {\n",
       "        vertical-align: middle;\n",
       "    }\n",
       "\n",
       "    .dataframe tbody tr th {\n",
       "        vertical-align: top;\n",
       "    }\n",
       "\n",
       "    .dataframe thead th {\n",
       "        text-align: right;\n",
       "    }\n",
       "</style>\n",
       "<table border=\"1\" class=\"dataframe\">\n",
       "  <thead>\n",
       "    <tr style=\"text-align: right;\">\n",
       "      <th></th>\n",
       "      <th>Exactitud</th>\n",
       "    </tr>\n",
       "  </thead>\n",
       "  <tbody>\n",
       "    <tr>\n",
       "      <th>DecisionTreeClassifier</th>\n",
       "      <td>1.000000</td>\n",
       "    </tr>\n",
       "    <tr>\n",
       "      <th>LogisticRegression</th>\n",
       "      <td>0.958491</td>\n",
       "    </tr>\n",
       "  </tbody>\n",
       "</table>\n",
       "</div>"
      ],
      "text/plain": [
       "                        Exactitud\n",
       "DecisionTreeClassifier   1.000000\n",
       "LogisticRegression       0.958491"
      ]
     },
     "execution_count": 69,
     "metadata": {},
     "output_type": "execute_result"
    }
   ],
   "source": [
    "resultados_df = pd.DataFrame.from_dict(\n",
    "    accuracy_scores, orient=\"index\", columns=[\"Exactitud\"]\n",
    ").sort_values(by=\"Exactitud\", ascending=False)\n",
    "print(\"\\n📊 Comparativa de modelos:\")\n",
    "resultados_df"
   ]
  },
  {
   "cell_type": "code",
   "execution_count": 70,
   "metadata": {},
   "outputs": [
    {
     "name": "stdout",
     "output_type": "stream",
     "text": [
      "\n",
      "🔍 El mejor modelo fue: DecisionTreeClassifier con una exactitud de 1.0000\n"
     ]
    }
   ],
   "source": [
    "print(f\"\\n🔍 El mejor modelo fue: {mejor_modelo} con una exactitud de {resultados_df.loc[mejor_modelo, 'Exactitud']:.4f}\")"
   ]
  },
  {
   "cell_type": "markdown",
   "metadata": {},
   "source": [
    "📊 Visualización Comparativa de Modelos con Seaborn\n",
    "Se importan las librerías necesarias para la visualización:\n",
    "- `seaborn` para gráficos estadísticos.\n",
    "- `matplotlib.pyplot` para personalizar la visualización."
   ]
  },
  {
   "cell_type": "code",
   "execution_count": 71,
   "metadata": {},
   "outputs": [
    {
     "name": "stderr",
     "output_type": "stream",
     "text": [
      "/tmp/ipykernel_21089/2139502702.py:9: FutureWarning: \n",
      "\n",
      "Passing `palette` without assigning `hue` is deprecated and will be removed in v0.14.0. Assign the `y` variable to `hue` and set `legend=False` for the same effect.\n",
      "\n",
      "  ax = sns.barplot(\n"
     ]
    },
    {
     "data": {
      "image/png": "[encoded data removed]",
      "text/plain": [
       "<Figure size 800x400 with 1 Axes>"
      ]
     },
     "metadata": {},
     "output_type": "display_data"
    }
   ],
   "source": [
    "import seaborn as sns\n",
    "import matplotlib.pyplot as plt\n",
    "\n",
    "# Configurar estilo\n",
    "sns.set(style=\"whitegrid\")\n",
    "\n",
    "# Crear gráfica\n",
    "plt.figure(figsize=(8, 4))\n",
    "ax = sns.barplot(\n",
    "    x=resultados_df[\"Exactitud\"],\n",
    "    y=resultados_df.index,\n",
    "    palette=\"Blues_d\"\n",
    ")\n",
    "\n",
    "# Añadir etiquetas\n",
    "plt.title(\"Comparativa de Exactitud entre Modelos\", fontsize=14)\n",
    "plt.xlabel(\"Exactitud\")\n",
    "plt.ylabel(\"Modelo\")\n",
    "for i, v in enumerate(resultados_df[\"Exactitud\"]):\n",
    "    ax.text(v + 0.01, i, f\"{v:.2f}\", color=\"black\", va=\"center\")\n",
    "\n",
    "plt.xlim(0, 1)\n",
    "plt.tight_layout()\n",
    "plt.show()"
   ]
  }
 ],
 "metadata": {
  "kernelspec": {
   "display_name": ".venv",
   "language": "python",
   "name": "python3"
  },
  "language_info": {
   "codemirror_mode": {
    "name": "ipython",
    "version": 3
   },
   "file_extension": ".py",
   "mimetype": "text/x-python",
   "name": "python",
   "nbconvert_exporter": "python",
   "pygments_lexer": "ipython3",
   "version": "3.12.3"
  }
 },
 "nbformat": 4,
 "nbformat_minor": 2
}
